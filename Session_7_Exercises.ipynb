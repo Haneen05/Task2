{
  "cells": [
    {
      "cell_type": "markdown",
      "metadata": {
        "id": "view-in-github",
        "colab_type": "text"
      },
      "source": [
        "<a href=\"https://colab.research.google.com/github/Haneen05/Task2/blob/main/Session_7_Exercises.ipynb\" target=\"_parent\"><img src=\"https://colab.research.google.com/assets/colab-badge.svg\" alt=\"Open In Colab\"/></a>"
      ]
    },
    {
      "cell_type": "markdown",
      "metadata": {
        "id": "EL4-QbTl6a8a"
      },
      "source": [
        "# Test Your Understanding"
      ]
    },
    {
      "cell_type": "markdown",
      "metadata": {
        "id": "uFT4481Q6a8g"
      },
      "source": [
        "# String"
      ]
    },
    {
      "cell_type": "markdown",
      "metadata": {
        "id": "9VhSD9u66a8h"
      },
      "source": [
        "## Problem 1\n",
        "Write a program that prints the last half of the word before the first half with all letters in lowercase."
      ]
    },
    {
      "cell_type": "code",
      "execution_count": 1,
      "metadata": {
        "colab": {
          "base_uri": "https://localhost:8080/"
        },
        "id": "jaPonc-Y6a8h",
        "outputId": "6fce5f5e-f42e-420c-84dd-9ca4a3b85cd4"
      },
      "outputs": [
        {
          "output_type": "stream",
          "name": "stdout",
          "text": [
            "amed\n"
          ]
        }
      ],
      "source": [
        "txt = \"Mohamed\"\n",
        "txt1=(txt[3:])\n",
        "print(txt1.lower())"
      ]
    },
    {
      "cell_type": "markdown",
      "metadata": {
        "id": "fmtKEHfh6a8j"
      },
      "source": [
        "## Problem 2\n",
        "Write a program to detect a Palindrome name that when you read it from left or right will be the same.\n",
        "\n",
        "Example:\n",
        "\n",
        " Aziza-True\n",
        "\n",
        " Mawada-False"
      ]
    },
    {
      "cell_type": "code",
      "execution_count": 3,
      "metadata": {
        "colab": {
          "base_uri": "https://localhost:8080/"
        },
        "id": "zLIgWStq6a8k",
        "outputId": "974a1503-2516-4dc1-d917-1efda48b01c4"
      },
      "outputs": [
        {
          "output_type": "stream",
          "name": "stdout",
          "text": [
            "azizA\n",
            "adawaM\n"
          ]
        }
      ],
      "source": [
        "txt2 = \"Aziza\"\n",
        "print(txt2[::-1])\n",
        "txt3 = \"Mawada\"\n",
        "print(txt3[::-1])"
      ]
    },
    {
      "cell_type": "markdown",
      "metadata": {
        "id": "Di7pTbrP6a8k"
      },
      "source": [
        "## Problem 8 (a)\n",
        "Print the following text using escape sequence characters:"
      ]
    },
    {
      "cell_type": "code",
      "execution_count": 21,
      "metadata": {
        "colab": {
          "base_uri": "https://localhost:8080/"
        },
        "id": "XDDLs6436a8k",
        "outputId": "b9a79e1d-0f34-4c5b-d945-5032972f9f1e"
      },
      "outputs": [
        {
          "output_type": "stream",
          "name": "stdout",
          "text": [
            "\tGood morning ladies/gentlemen. Welcome to\n",
            "\t\"Web Development: 'Frontend' Course\"\n"
          ]
        }
      ],
      "source": [
        "txt = '\\tGood morning ladies/gentlemen. Welcome to\\n\\t\"Web Development: \\'Frontend\\' Course\"'\n",
        "print(txt)\n"
      ]
    },
    {
      "cell_type": "markdown",
      "metadata": {
        "id": "m2V3pplR6a8l"
      },
      "source": [
        "## Problem 8 (b)\n",
        "Print the text after removing the space at its beginning using a string method.\n"
      ]
    },
    {
      "cell_type": "code",
      "execution_count": 29,
      "metadata": {
        "colab": {
          "base_uri": "https://localhost:8080/"
        },
        "id": "hUydJqQS6a8l",
        "outputId": "a31a0426-e574-4389-f639-9b05d68b208f"
      },
      "outputs": [
        {
          "output_type": "stream",
          "name": "stdout",
          "text": [
            "GDSCNU\n"
          ]
        }
      ],
      "source": [
        "txtt= \"  GDSCNU  \"\n",
        "print(txtt.strip())\n"
      ]
    },
    {
      "cell_type": "markdown",
      "metadata": {
        "id": "YZkEIenZ6a8m"
      },
      "source": [
        "## Problem 8 (c)\n",
        "Replace the incorrect word 'Frontend' with the correct word 'Backend' using a string method, and print it out the resulting text."
      ]
    },
    {
      "cell_type": "code",
      "execution_count": null,
      "metadata": {
        "id": "bkFwzbyR6a8m"
      },
      "outputs": [],
      "source": [
        "#c\n"
      ]
    },
    {
      "cell_type": "markdown",
      "metadata": {
        "id": "gvMFG9oH6a8n"
      },
      "source": [
        "# List"
      ]
    },
    {
      "cell_type": "markdown",
      "metadata": {
        "id": "1acM4r_X6a8n"
      },
      "source": [
        "## Problem 4\n",
        "\n",
        "Do the required operations on the following list:"
      ]
    },
    {
      "cell_type": "code",
      "execution_count": 20,
      "metadata": {
        "colab": {
          "base_uri": "https://localhost:8080/"
        },
        "id": "oqPXehNr6a8n",
        "outputId": "718307e5-14fc-4f2a-9fd1-ab02a2760ba2"
      },
      "outputs": [
        {
          "output_type": "stream",
          "name": "stdout",
          "text": [
            "[6, 5, 10] \n",
            "\n",
            "[1, 5, 9, 10] \n",
            "\n",
            "[9, 5, 10] \n",
            "\n",
            "[9, 5, 10, 9, 5] \n",
            "\n"
          ]
        }
      ],
      "source": [
        "l1 = [6,5,10]\n",
        "print(l1,\"\\n\")\n",
        "l2 = [1,5,9,10]\n",
        "print(l2,\"\\n\")\n",
        "l3=[9,5,10]\n",
        "print(l3,\"\\n\")\n",
        "l4=[9,5,10,9,5]\n",
        "print(l4,\"\\n\")"
      ]
    },
    {
      "cell_type": "markdown",
      "metadata": {
        "id": "TfssmVuk6a8n"
      },
      "source": [
        "Output []:\n",
        "\n",
        "[6, 5, 10]\n",
        "\n",
        "[1, 5, 9, 10]\n",
        "\n",
        "[9, 5, 10]\n",
        "\n",
        "[9, 5, 10, 9, 5]"
      ]
    },
    {
      "cell_type": "markdown",
      "metadata": {
        "id": "CajBOTyl6a8o"
      },
      "source": [
        "# Set"
      ]
    },
    {
      "cell_type": "markdown",
      "metadata": {
        "id": "SZbaOMuZ6a8o"
      },
      "source": [
        "## Problem 5\n",
        "\n",
        "Count the Number of matching characters in a pair of strings."
      ]
    },
    {
      "cell_type": "code",
      "execution_count": null,
      "metadata": {
        "id": "6iO1OJlB6a8o"
      },
      "outputs": [],
      "source": [
        "s1 = \"GDSC-NU\"\n",
        "s1 = \"GDG Cairo\""
      ]
    }
  ],
  "metadata": {
    "kernelspec": {
      "display_name": "Python 3",
      "language": "python",
      "name": "python3"
    },
    "language_info": {
      "codemirror_mode": {
        "name": "ipython",
        "version": 3
      },
      "file_extension": ".py",
      "mimetype": "text/x-python",
      "name": "python",
      "nbconvert_exporter": "python",
      "pygments_lexer": "ipython3",
      "version": "3.8.5"
    },
    "colab": {
      "provenance": [],
      "collapsed_sections": [
        "EL4-QbTl6a8a"
      ],
      "include_colab_link": true
    }
  },
  "nbformat": 4,
  "nbformat_minor": 0
}