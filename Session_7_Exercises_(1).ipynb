{
  "cells": [
    {
      "cell_type": "markdown",
      "metadata": {
        "id": "view-in-github",
        "colab_type": "text"
      },
      "source": [
        "<a href=\"https://colab.research.google.com/github/Haneen05/Task2/blob/main/Session_7_Exercises_(1).ipynb\" target=\"_parent\"><img src=\"https://colab.research.google.com/assets/colab-badge.svg\" alt=\"Open In Colab\"/></a>"
      ]
    },
    {
      "cell_type": "markdown",
      "metadata": {
        "id": "wx02bSpkdQ3f"
      },
      "source": [
        "# Test Your Understanding"
      ]
    },
    {
      "cell_type": "markdown",
      "metadata": {
        "id": "eZR1AzdOdQ3j"
      },
      "source": [
        "# String"
      ]
    },
    {
      "cell_type": "markdown",
      "metadata": {
        "id": "L-flrKjIdQ3k"
      },
      "source": [
        "## Problem 1\n",
        "Write a program that prints the last half of the word before the first half with all letters in lowercase."
      ]
    },
    {
      "cell_type": "code",
      "execution_count": null,
      "metadata": {
        "id": "x9GwgMBtdQ3l"
      },
      "outputs": [],
      "source": [
        "txt = \"Mohamed\""
      ]
    },
    {
      "cell_type": "markdown",
      "metadata": {
        "id": "vK4xoOimdQ3m"
      },
      "source": [
        "## Problem 2\n",
        "Write a program to detect a Palindrome name that when you read it from left or right will be the same.\n",
        "\n",
        "Example:\n",
        "\n",
        " Aziza-True\n",
        "\n",
        " Mawada-False"
      ]
    },
    {
      "cell_type": "code",
      "execution_count": null,
      "metadata": {
        "id": "G_t8Go7WdQ3n"
      },
      "outputs": [],
      "source": [
        "txt2 = \"Aziza\""
      ]
    },
    {
      "cell_type": "markdown",
      "metadata": {
        "id": "iBYy_x1rdQ3n"
      },
      "source": [
        "## Problem 8 (a)\n",
        "Print the following text using escape sequence characters:"
      ]
    },
    {
      "cell_type": "code",
      "execution_count": null,
      "metadata": {
        "id": "nkQeexHOdQ3o"
      },
      "outputs": [],
      "source": [
        "txt = '\\tGood morning ladies/gentlemen. Welcome to\\n\\t\"Web Development: \\'Frontend\\' Course\"'\n"
      ]
    },
    {
      "cell_type": "markdown",
      "metadata": {
        "id": "BzklpBqddQ3o"
      },
      "source": [
        "## Problem 8 (b)\n",
        "Print the text after removing the space at its beginning using a string method.\n"
      ]
    },
    {
      "cell_type": "code",
      "execution_count": null,
      "metadata": {
        "id": "7TcNtDkkdQ3p"
      },
      "outputs": [],
      "source": [
        "#b\n"
      ]
    },
    {
      "cell_type": "markdown",
      "metadata": {
        "id": "anhuOurgdQ3p"
      },
      "source": [
        "## Problem 8 (c)\n",
        "Replace the incorrect word 'Frontend' with the correct word 'Backend' using a string method, and print it out the resulting text."
      ]
    },
    {
      "cell_type": "code",
      "execution_count": null,
      "metadata": {
        "id": "RP3QqZW-dQ3q"
      },
      "outputs": [],
      "source": [
        "#c\n"
      ]
    },
    {
      "cell_type": "markdown",
      "metadata": {
        "id": "eC2_mLeMdQ3q"
      },
      "source": [
        "# List"
      ]
    },
    {
      "cell_type": "markdown",
      "metadata": {
        "id": "R2J0o7m6dQ3r"
      },
      "source": [
        "## Problem 4\n",
        "\n",
        "Do the required operations on the following list:"
      ]
    },
    {
      "cell_type": "code",
      "execution_count": 33,
      "metadata": {
        "colab": {
          "base_uri": "https://localhost:8080/"
        },
        "id": "bnSv9RNhdQ3r",
        "outputId": "68248d86-f09c-4f18-c8b3-619898b9ba91"
      },
      "outputs": [
        {
          "output_type": "stream",
          "name": "stdout",
          "text": [
            "[6, 5, 10]\n",
            "[1, 5, 9, 10]\n",
            "[5, 9, 10]\n",
            "[5, 9, 9, 10, 5]\n"
          ]
        }
      ],
      "source": [
        "from os import remove\n",
        "l = [6,5,10]\n",
        "print(l)\n",
        "l.remove(6)\n",
        "l.append(1)\n",
        "l.append(9)\n",
        "l.sort()\n",
        "print(l)\n",
        "l.remove(1)\n",
        "l.sort()\n",
        "\n",
        "print(l)\n",
        "l.append(9)\n",
        "l.sort()\n",
        "l.append(5)\n",
        "\n",
        "print(l)\n",
        "\n"
      ]
    },
    {
      "cell_type": "markdown",
      "metadata": {
        "id": "UO5M0lo1dQ3r"
      },
      "source": [
        "Output []:\n",
        "\n",
        "[6, 5, 10]\n",
        "\n",
        "[1, 5, 9, 10]\n",
        "\n",
        "[9, 5, 10]\n",
        "\n",
        "[9, 5, 10, 9, 5]"
      ]
    },
    {
      "cell_type": "markdown",
      "metadata": {
        "id": "Dy8owvMUdQ3s"
      },
      "source": [
        "# Set"
      ]
    },
    {
      "cell_type": "markdown",
      "metadata": {
        "id": "8dU8vOo0dQ3s"
      },
      "source": [
        "## Problem 5\n",
        "\n",
        "Count the Number of matching characters in a pair of strings."
      ]
    },
    {
      "cell_type": "code",
      "execution_count": 4,
      "metadata": {
        "colab": {
          "base_uri": "https://localhost:8080/"
        },
        "id": "Y6LZBnILdQ3t",
        "outputId": "1061babd-d4a5-4f4c-959d-875482cb8cc9"
      },
      "outputs": [
        {
          "output_type": "stream",
          "name": "stdout",
          "text": [
            "2\n"
          ]
        }
      ],
      "source": [
        "s1 =set([\"GDSC-NU\"])\n",
        "s2 =set([\"GDG Cairo\"])\n",
        "print(len(s1.symmetric_difference(s2)))"
      ]
    }
  ],
  "metadata": {
    "kernelspec": {
      "display_name": "Python 3",
      "language": "python",
      "name": "python3"
    },
    "language_info": {
      "codemirror_mode": {
        "name": "ipython",
        "version": 3
      },
      "file_extension": ".py",
      "mimetype": "text/x-python",
      "name": "python",
      "nbconvert_exporter": "python",
      "pygments_lexer": "ipython3",
      "version": "3.8.5"
    },
    "colab": {
      "provenance": [],
      "include_colab_link": true
    }
  },
  "nbformat": 4,
  "nbformat_minor": 0
}